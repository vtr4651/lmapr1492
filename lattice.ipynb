{
 "cells": [
  {
   "cell_type": "code",
   "execution_count": 1,
   "id": "e8e205da",
   "metadata": {},
   "outputs": [],
   "source": [
    "from pymatgen.ext.matproj import MPRester\n",
    "from pymatgen.symmetry.analyzer import SpacegroupAnalyzer\n",
    "from pprint import pprint\n",
    "\n",
    "with MPRester(\"2HJyrqCBxbcTKw7d\") as m:\n",
    "    # structure de mon matériaux\n",
    "    structure = m.get_structure_by_material_id(\"mp-23209\")"
   ]
  },
  {
   "cell_type": "code",
   "execution_count": 2,
   "id": "b8077bfa",
   "metadata": {},
   "outputs": [
    {
     "name": "stdout",
     "output_type": "stream",
     "text": [
      "Les vecteurs de base du réseau direct sont \n",
      " 0.000000 3.523613 3.523613\n",
      "3.523613 0.000000 3.523613\n",
      "3.523613 3.523613 0.000000\n"
     ]
    }
   ],
   "source": [
    "s = SpacegroupAnalyzer(structure)\n",
    "a = structure.lattice\n",
    "print(\"Les vecteurs de base du réseau direct sont \\n\", a)"
   ]
  },
  {
   "cell_type": "code",
   "execution_count": 9,
   "id": "5279507a",
   "metadata": {
    "scrolled": true
   },
   "outputs": [
    {
     "name": "stdout",
     "output_type": "stream",
     "text": [
      "Les vecteurs de base du réseau réciproque sont \n",
      " -0.891583 0.891583 0.891583\n",
      "0.891583 -0.891583 0.891583\n",
      "0.891583 0.891583 -0.891583\n"
     ]
    }
   ],
   "source": [
    "b = structure.lattice.reciprocal_lattice\n",
    "\n",
    "print(\"Les vecteurs de base du réseau réciproque sont \\n\", b)\n",
    "\n"
   ]
  },
  {
   "cell_type": "code",
   "execution_count": 10,
   "id": "6eb7f26c",
   "metadata": {},
   "outputs": [
    {
     "name": "stdout",
     "output_type": "stream",
     "text": [
      "Vecteurs des base du réseau direct de la strucutre (Normes en Ångström):\n",
      "\n",
      "a = 4.983141293154149\n",
      "b = 4.983141293154149\n",
      "c = 4.983141293154149 \n",
      "\n"
     ]
    }
   ],
   "source": [
    "normes = structure.lattice.abc\n",
    "print(\"Vecteurs des base du réseau direct de la strucutre (normes en Ångström):\\n\")\n",
    "\n",
    "print(\"a =\",normes[0])\n",
    "print(\"b =\",normes[1])\n",
    "print(\"c =\",normes[2],\"\\n\")"
   ]
  },
  {
   "cell_type": "code",
   "execution_count": 13,
   "id": "1a1386cd",
   "metadata": {},
   "outputs": [
    {
     "name": "stdout",
     "output_type": "stream",
     "text": [
      "Vecteurs des base du réseau réciproque de la strucutre(normes en Ångström):\n",
      "\n",
      "a* = 1.5442666639902434\n",
      "b* = 1.5442666639902434\n",
      "c* = 1.5442666639902434 \n",
      "\n"
     ]
    }
   ],
   "source": [
    "#vecteurs* = structure.lattice.reciprocal_lattice\n",
    "normes_reciproque = structure.lattice.reciprocal_lattice.abc\n",
    "\n",
    "print(\"Vecteurs des base du réseau réciproque de la strucutre(normes en Ångström):\\n\")\n",
    "print(\"a* =\",normes_reciproque[0])\n",
    "print(\"b* =\",normes_reciproque[1])\n",
    "print(\"c* =\",normes_reciproque[2],\"\\n\")"
   ]
  },
  {
   "cell_type": "code",
   "execution_count": 4,
   "id": "2e4052fe",
   "metadata": {},
   "outputs": [
    {
     "name": "stdout",
     "output_type": "stream",
     "text": [
      "système cristallin: cubic\n"
     ]
    }
   ],
   "source": [
    "c = s.get_crystal_system()\n",
    "print(\"système cristallin:\", c)"
   ]
  },
  {
   "cell_type": "code",
   "execution_count": 5,
   "id": "6c5dde6e",
   "metadata": {},
   "outputs": [
    {
     "name": "stdout",
     "output_type": "stream",
     "text": [
      "groupe ponctuel: m-3m\n"
     ]
    }
   ],
   "source": [
    "d = s.get_point_group_symbol()\n",
    "print(\"groupe ponctuel:\", d)"
   ]
  },
  {
   "cell_type": "code",
   "execution_count": 6,
   "id": "b6219d5f",
   "metadata": {},
   "outputs": [
    {
     "name": "stdout",
     "output_type": "stream",
     "text": [
      "type de maille: cubic\n"
     ]
    }
   ],
   "source": [
    "e = s.get_lattice_type()\n",
    "print(\"type de maille:\", e)"
   ]
  },
  {
   "cell_type": "code",
   "execution_count": null,
   "id": "21604f03",
   "metadata": {},
   "outputs": [],
   "source": []
  }
 ],
 "metadata": {
  "kernelspec": {
   "display_name": "Python 3",
   "language": "python",
   "name": "python3"
  },
  "language_info": {
   "codemirror_mode": {
    "name": "ipython",
    "version": 3
   },
   "file_extension": ".py",
   "mimetype": "text/x-python",
   "name": "python",
   "nbconvert_exporter": "python",
   "pygments_lexer": "ipython3",
   "version": "3.6.8"
  },
  "widgets": {
   "application/vnd.jupyter.widget-state+json": {
    "state": {},
    "version_major": 2,
    "version_minor": 0
   }
  }
 },
 "nbformat": 4,
 "nbformat_minor": 5
}
