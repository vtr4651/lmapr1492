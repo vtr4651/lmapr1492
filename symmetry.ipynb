{
 "cells": [
  {
   "cell_type": "code",
   "execution_count": 9,
   "id": "bd0ae29f",
   "metadata": {},
   "outputs": [],
   "source": [
    "from pymatgen import Structure\n",
    "from pymatgen.symmetry.analyzer import SpacegroupAnalyzer\n",
    "from pymatgen.symmetry.analyzer import SpacegroupOperations\n",
    "from pymatgen.core.operations import SymmOp\n",
    "from pymatgen.ext.matproj import MPRester\n",
    "from jupyter_jsmol.pymatgen import quick_view\n",
    "from pymatgen.io.cif import CifWriter"
   ]
  },
  {
   "cell_type": "code",
   "execution_count": 10,
   "id": "e14128ee",
   "metadata": {},
   "outputs": [
    {
     "ename": "MPRestError",
     "evalue": "REST query returned with error status code 403. Content: b'{\"valid_response\": false, \"error\": \"API_KEY is not a valid key.\", \"version\": {\"db\": \"2020_09_08\", \"pymatgen\": \"2022.0.8\", \"rest\": \"2.0\"}, \"created_at\": \"2023-03-06T00:36:57.891698\"}'",
     "output_type": "error",
     "traceback": [
      "\u001b[0;31m---------------------------------------------------------------------------\u001b[0m",
      "\u001b[0;31mMPRestError\u001b[0m                               Traceback (most recent call last)",
      "\u001b[0;32m/usr/local/lib64/python3.6/site-packages/pymatgen/ext/matproj.py\u001b[0m in \u001b[0;36m_make_request\u001b[0;34m(self, sub_url, payload, method, mp_decode)\u001b[0m\n\u001b[1;32m    258\u001b[0m                 \"REST query returned with error status code {}\".format(\n\u001b[0;32m--> 259\u001b[0;31m                     \u001b[0mresponse\u001b[0m\u001b[0;34m.\u001b[0m\u001b[0mstatus_code\u001b[0m\u001b[0;34m\u001b[0m\u001b[0;34m\u001b[0m\u001b[0m\n\u001b[0m\u001b[1;32m    260\u001b[0m                 )\n",
      "\u001b[0;31mMPRestError\u001b[0m: REST query returned with error status code 403",
      "\nDuring handling of the above exception, another exception occurred:\n",
      "\u001b[0;31mMPRestError\u001b[0m                               Traceback (most recent call last)",
      "\u001b[0;32m<ipython-input-10-b7a6c0e7f444>\u001b[0m in \u001b[0;36m<module>\u001b[0;34m\u001b[0m\n\u001b[1;32m      1\u001b[0m \u001b[0;32mwith\u001b[0m \u001b[0mMPRester\u001b[0m\u001b[0;34m(\u001b[0m\u001b[0;34m\"oWwQB45ORZHaBxfLBaup5RYh027USW1D\"\u001b[0m\u001b[0;34m)\u001b[0m \u001b[0;32mas\u001b[0m \u001b[0mm\u001b[0m\u001b[0;34m:\u001b[0m\u001b[0;34m\u001b[0m\u001b[0;34m\u001b[0m\u001b[0m\n\u001b[0;32m----> 2\u001b[0;31m     \u001b[0mstructure\u001b[0m \u001b[0;34m=\u001b[0m \u001b[0mm\u001b[0m\u001b[0;34m.\u001b[0m\u001b[0mget_structure_by_material_id\u001b[0m\u001b[0;34m(\u001b[0m\u001b[0;34m\"mp-23209\"\u001b[0m\u001b[0;34m)\u001b[0m\u001b[0;34m\u001b[0m\u001b[0;34m\u001b[0m\u001b[0m\n\u001b[0m\u001b[1;32m      3\u001b[0m \u001b[0;34m\u001b[0m\u001b[0m\n\u001b[1;32m      4\u001b[0m     \u001b[0mmyCif\u001b[0m \u001b[0;34m=\u001b[0m \u001b[0mCifWriter\u001b[0m\u001b[0;34m(\u001b[0m\u001b[0mstructure\u001b[0m\u001b[0;34m)\u001b[0m\u001b[0;34m\u001b[0m\u001b[0;34m\u001b[0m\u001b[0m\n",
      "\u001b[0;32m/usr/local/lib64/python3.6/site-packages/pymatgen/ext/matproj.py\u001b[0m in \u001b[0;36mget_structure_by_material_id\u001b[0;34m(self, material_id, final, conventional_unit_cell)\u001b[0m\n\u001b[1;32m    700\u001b[0m         \"\"\"\n\u001b[1;32m    701\u001b[0m         \u001b[0mprop\u001b[0m \u001b[0;34m=\u001b[0m \u001b[0;34m\"final_structure\"\u001b[0m \u001b[0;32mif\u001b[0m \u001b[0mfinal\u001b[0m \u001b[0;32melse\u001b[0m \u001b[0;34m\"initial_structure\"\u001b[0m\u001b[0;34m\u001b[0m\u001b[0;34m\u001b[0m\u001b[0m\n\u001b[0;32m--> 702\u001b[0;31m         \u001b[0mdata\u001b[0m \u001b[0;34m=\u001b[0m \u001b[0mself\u001b[0m\u001b[0;34m.\u001b[0m\u001b[0mget_data\u001b[0m\u001b[0;34m(\u001b[0m\u001b[0mmaterial_id\u001b[0m\u001b[0;34m,\u001b[0m \u001b[0mprop\u001b[0m\u001b[0;34m=\u001b[0m\u001b[0mprop\u001b[0m\u001b[0;34m)\u001b[0m\u001b[0;34m\u001b[0m\u001b[0;34m\u001b[0m\u001b[0m\n\u001b[0m\u001b[1;32m    703\u001b[0m         \u001b[0;32mif\u001b[0m \u001b[0;32mnot\u001b[0m \u001b[0mdata\u001b[0m\u001b[0;34m:\u001b[0m\u001b[0;34m\u001b[0m\u001b[0;34m\u001b[0m\u001b[0m\n\u001b[1;32m    704\u001b[0m             \u001b[0;32mtry\u001b[0m\u001b[0;34m:\u001b[0m\u001b[0;34m\u001b[0m\u001b[0;34m\u001b[0m\u001b[0m\n",
      "\u001b[0;32m/usr/local/lib64/python3.6/site-packages/pymatgen/ext/matproj.py\u001b[0m in \u001b[0;36mget_data\u001b[0;34m(self, chemsys_formula_id, data_type, prop)\u001b[0m\n\u001b[1;32m    337\u001b[0m         \u001b[0;32mif\u001b[0m \u001b[0mprop\u001b[0m\u001b[0;34m:\u001b[0m\u001b[0;34m\u001b[0m\u001b[0;34m\u001b[0m\u001b[0m\n\u001b[1;32m    338\u001b[0m             \u001b[0msub_url\u001b[0m \u001b[0;34m+=\u001b[0m \u001b[0;34m\"/\"\u001b[0m \u001b[0;34m+\u001b[0m \u001b[0mprop\u001b[0m\u001b[0;34m\u001b[0m\u001b[0;34m\u001b[0m\u001b[0m\n\u001b[0;32m--> 339\u001b[0;31m         \u001b[0;32mreturn\u001b[0m \u001b[0mself\u001b[0m\u001b[0;34m.\u001b[0m\u001b[0m_make_request\u001b[0m\u001b[0;34m(\u001b[0m\u001b[0msub_url\u001b[0m\u001b[0;34m)\u001b[0m\u001b[0;34m\u001b[0m\u001b[0;34m\u001b[0m\u001b[0m\n\u001b[0m\u001b[1;32m    340\u001b[0m \u001b[0;34m\u001b[0m\u001b[0m\n\u001b[1;32m    341\u001b[0m     \u001b[0;32mdef\u001b[0m \u001b[0mget_materials_ids\u001b[0m\u001b[0;34m(\u001b[0m\u001b[0mself\u001b[0m\u001b[0;34m,\u001b[0m \u001b[0mchemsys_formula\u001b[0m\u001b[0;34m)\u001b[0m\u001b[0;34m:\u001b[0m\u001b[0;34m\u001b[0m\u001b[0;34m\u001b[0m\u001b[0m\n",
      "\u001b[0;32m/usr/local/lib64/python3.6/site-packages/pymatgen/ext/matproj.py\u001b[0m in \u001b[0;36m_make_request\u001b[0;34m(self, sub_url, payload, method, mp_decode)\u001b[0m\n\u001b[1;32m    267\u001b[0m                 \u001b[0;32melse\u001b[0m \u001b[0mstr\u001b[0m\u001b[0;34m(\u001b[0m\u001b[0mex\u001b[0m\u001b[0;34m)\u001b[0m\u001b[0;34m\u001b[0m\u001b[0;34m\u001b[0m\u001b[0m\n\u001b[1;32m    268\u001b[0m             )\n\u001b[0;32m--> 269\u001b[0;31m             \u001b[0;32mraise\u001b[0m \u001b[0mMPRestError\u001b[0m\u001b[0;34m(\u001b[0m\u001b[0mmsg\u001b[0m\u001b[0;34m)\u001b[0m\u001b[0;34m\u001b[0m\u001b[0;34m\u001b[0m\u001b[0m\n\u001b[0m\u001b[1;32m    270\u001b[0m \u001b[0;34m\u001b[0m\u001b[0m\n\u001b[1;32m    271\u001b[0m     \u001b[0;32mdef\u001b[0m \u001b[0mget_database_version\u001b[0m\u001b[0;34m(\u001b[0m\u001b[0mself\u001b[0m\u001b[0;34m)\u001b[0m\u001b[0;34m:\u001b[0m\u001b[0;34m\u001b[0m\u001b[0;34m\u001b[0m\u001b[0m\n",
      "\u001b[0;31mMPRestError\u001b[0m: REST query returned with error status code 403. Content: b'{\"valid_response\": false, \"error\": \"API_KEY is not a valid key.\", \"version\": {\"db\": \"2020_09_08\", \"pymatgen\": \"2022.0.8\", \"rest\": \"2.0\"}, \"created_at\": \"2023-03-06T00:36:57.891698\"}'"
     ]
    }
   ],
   "source": [
    "with MPRester(\"2HJyrqCBxbcTKw7d\") as m:\n",
    "    structure = m.get_structure_by_material_id(\"mp-23209\")\n",
    "\n",
    "    myCif = CifWriter(structure)"
   ]
  },
  {
   "cell_type": "code",
   "execution_count": null,
   "id": "df0930dc",
   "metadata": {},
   "outputs": [],
   "source": [
    "#1. Premier élément de symétrie :\n",
    "symmetrie1 = SymmOp.from_xyz_string('-x, -y, z')\n",
    "matrice1  = symmetrie1.rotation_matrix\n",
    "\n",
    "print(\"Cette symmétrie est un plan miroir d'axe z. Avec la matrice de l'opération de symétrie associée:\\n\")\n",
    "print(matrice1)"
   ]
  },
  {
   "cell_type": "code",
   "execution_count": null,
   "id": "31eb5844",
   "metadata": {
    "scrolled": true
   },
   "outputs": [],
   "source": [
    "view = quick_view(structure) \n",
    "display(view)\n",
    "view.script('draw symop 3')"
   ]
  },
  {
   "cell_type": "code",
   "execution_count": null,
   "id": "d1306331",
   "metadata": {},
   "outputs": [],
   "source": [
    "#2. Deuxième élément de symétrie :"
   ]
  },
  {
   "cell_type": "code",
   "execution_count": null,
   "id": "396f6e80",
   "metadata": {},
   "outputs": [],
   "source": [
    "symmetrie2 = SymmOp.from_xyz_string('z, y, x')\n",
    "matrice2  = symmetrie2.rotation_matrix\n",
    "\n",
    "print(\"Cette symmétrie renvoie les coordonnées d'axe x sur l'axe z.\")\n",
    "print(\"Avec la matrice de l'opération de symétrie associée:\\n\")\n",
    "print(matrice2)"
   ]
  },
  {
   "cell_type": "code",
   "execution_count": 11,
   "id": "9f7bd6b4",
   "metadata": {},
   "outputs": [
    {
     "ename": "NameError",
     "evalue": "name 'structure' is not defined",
     "output_type": "error",
     "traceback": [
      "\u001b[0;31m---------------------------------------------------------------------------\u001b[0m",
      "\u001b[0;31mNameError\u001b[0m                                 Traceback (most recent call last)",
      "\u001b[0;32m<ipython-input-11-4d56f1d737f2>\u001b[0m in \u001b[0;36m<module>\u001b[0;34m\u001b[0m\n\u001b[0;32m----> 1\u001b[0;31m \u001b[0mview\u001b[0m \u001b[0;34m=\u001b[0m \u001b[0mquick_view\u001b[0m\u001b[0;34m(\u001b[0m\u001b[0mstructure\u001b[0m\u001b[0;34m)\u001b[0m \u001b[0;34m;\u001b[0m \u001b[0mdisplay\u001b[0m\u001b[0;34m(\u001b[0m\u001b[0mview\u001b[0m\u001b[0;34m)\u001b[0m\u001b[0;34m\u001b[0m\u001b[0;34m\u001b[0m\u001b[0m\n\u001b[0m\u001b[1;32m      2\u001b[0m \u001b[0mview\u001b[0m\u001b[0;34m.\u001b[0m\u001b[0mscript\u001b[0m\u001b[0;34m(\u001b[0m\u001b[0;34m'draw symop 14'\u001b[0m\u001b[0;34m)\u001b[0m\u001b[0;34m\u001b[0m\u001b[0;34m\u001b[0m\u001b[0m\n",
      "\u001b[0;31mNameError\u001b[0m: name 'structure' is not defined"
     ]
    }
   ],
   "source": [
    "view = quick_view(structure) ; display(view)\n",
    "view.script('draw symop 14')"
   ]
  },
  {
   "cell_type": "code",
   "execution_count": 12,
   "id": "621f263c",
   "metadata": {},
   "outputs": [],
   "source": [
    "#3. Troisième élément de symétrie :"
   ]
  },
  {
   "cell_type": "code",
   "execution_count": 13,
   "id": "693fdf76",
   "metadata": {},
   "outputs": [
    {
     "name": "stdout",
     "output_type": "stream",
     "text": [
      "Cette symmétrie effectue une rotation autour de la droite [1 1 1].\n",
      "On observe également une translation de 0.5 sur les axes y et z.\n",
      "La matrice de l'opération de symétrie associée est donnée par :\n",
      "\n",
      "[[0. 1. 0.]\n",
      " [0. 0. 1.]\n",
      " [1. 0. 0.]]\n"
     ]
    }
   ],
   "source": [
    "symmetry3 = SymmOp.from_xyz_string('y, z+1/2, x+1/2')\n",
    "matrice3  = symmetry3.rotation_matrix\n",
    "\n",
    "print(\"Cette symmétrie effectue une rotation autour de la droite [1 1 1].\")\n",
    "print(\"On observe également une translation de 0.5 sur les axes y et z.\")\n",
    "print(\"La matrice de l'opération de symétrie associée est donnée par :\\n\")\n",
    "print(matrice3)"
   ]
  },
  {
   "cell_type": "code",
   "execution_count": 14,
   "id": "6844c0a1",
   "metadata": {},
   "outputs": [
    {
     "ename": "NameError",
     "evalue": "name 'structure' is not defined",
     "output_type": "error",
     "traceback": [
      "\u001b[0;31m---------------------------------------------------------------------------\u001b[0m",
      "\u001b[0;31mNameError\u001b[0m                                 Traceback (most recent call last)",
      "\u001b[0;32m<ipython-input-14-e7ad33d8abde>\u001b[0m in \u001b[0;36m<module>\u001b[0;34m\u001b[0m\n\u001b[0;32m----> 1\u001b[0;31m \u001b[0mview\u001b[0m \u001b[0;34m=\u001b[0m \u001b[0mquick_view\u001b[0m\u001b[0;34m(\u001b[0m\u001b[0mstructure\u001b[0m\u001b[0;34m)\u001b[0m \u001b[0;34m;\u001b[0m \u001b[0mdisplay\u001b[0m\u001b[0;34m(\u001b[0m\u001b[0mview\u001b[0m\u001b[0;34m)\u001b[0m\u001b[0;34m\u001b[0m\u001b[0;34m\u001b[0m\u001b[0m\n\u001b[0m\u001b[1;32m      2\u001b[0m \u001b[0mview\u001b[0m\u001b[0;34m.\u001b[0m\u001b[0mscript\u001b[0m\u001b[0;34m(\u001b[0m\u001b[0;34m'draw symop 7'\u001b[0m\u001b[0;34m)\u001b[0m\u001b[0;34m\u001b[0m\u001b[0;34m\u001b[0m\u001b[0m\n",
      "\u001b[0;31mNameError\u001b[0m: name 'structure' is not defined"
     ]
    }
   ],
   "source": [
    "view = quick_view(structure) ; display(view)\n",
    "view.script('draw symop 7')"
   ]
  },
  {
   "cell_type": "code",
   "execution_count": null,
   "id": "098df0b7",
   "metadata": {},
   "outputs": [],
   "source": []
  },
  {
   "cell_type": "code",
   "execution_count": null,
   "id": "84e528bc",
   "metadata": {},
   "outputs": [],
   "source": []
  },
  {
   "cell_type": "code",
   "execution_count": null,
   "id": "5d5eae83",
   "metadata": {},
   "outputs": [],
   "source": []
  }
 ],
 "metadata": {
  "kernelspec": {
   "display_name": "Python 3",
   "language": "python",
   "name": "python3"
  },
  "language_info": {
   "codemirror_mode": {
    "name": "ipython",
    "version": 3
   },
   "file_extension": ".py",
   "mimetype": "text/x-python",
   "name": "python",
   "nbconvert_exporter": "python",
   "pygments_lexer": "ipython3",
   "version": "3.6.8"
  }
 },
 "nbformat": 4,
 "nbformat_minor": 5
}
